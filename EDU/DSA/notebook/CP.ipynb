{
  "nbformat": 4,
  "nbformat_minor": 0,
  "metadata": {
    "colab": {
      "provenance": [],
      "authorship_tag": "ABX9TyMnUYiRyoCY/DmXeqlzPjLt",
      "include_colab_link": true
    },
    "kernelspec": {
      "name": "python3",
      "display_name": "Python 3"
    },
    "language_info": {
      "name": "python"
    }
  },
  "cells": [
    {
      "cell_type": "markdown",
      "metadata": {
        "id": "view-in-github",
        "colab_type": "text"
      },
      "source": [
        "<a href=\"https://colab.research.google.com/github/MahmudGalib7/AI-Olympiad/blob/master/python/DSA/CP.ipynb\" target=\"_parent\"><img src=\"https://colab.research.google.com/assets/colab-badge.svg\" alt=\"Open In Colab\"/></a>"
      ]
    },
    {
      "cell_type": "markdown",
      "source": [
        "# Sliding Windows"
      ],
      "metadata": {
        "id": "QLFKd0xI-LIZ"
      }
    },
    {
      "cell_type": "code",
      "execution_count": 12,
      "metadata": {
        "colab": {
          "base_uri": "https://localhost:8080/"
        },
        "id": "v4Eak9vA-A6f",
        "outputId": "bed8d805-fbf5-4fff-94b6-fe09aee17e0e"
      },
      "outputs": [
        {
          "output_type": "stream",
          "name": "stdout",
          "text": [
            "2\n"
          ]
        }
      ],
      "source": [
        "arr = [1, 2, 5, 4, 4, 6]\n",
        "target = 8\n",
        "\n",
        "def sub_array_len(arr, target):\n",
        "  left = 0\n",
        "  min_len = float('inf')\n",
        "  win_sum = 0\n",
        "\n",
        "  for right in range(len(arr)):\n",
        "    win_sum += arr[right]\n",
        "    while win_sum >= target:\n",
        "      min_len = min(min_len, right - left + 1)\n",
        "      win_sum -= arr[left]\n",
        "      left += 1\n",
        "  return min_len if min_len != float('inf') else 0\n",
        "\n",
        "print(sub_array_len(arr, target))"
      ]
    },
    {
      "cell_type": "markdown",
      "source": [
        "# Permutation"
      ],
      "metadata": {
        "id": "01guKOREBbwY"
      }
    },
    {
      "cell_type": "code",
      "source": [
        "from collections import defaultdict\n",
        "\n",
        "s = 'eceda'\n",
        "k = 2\n",
        "\n",
        "def longest_k_distinct_subset(s, k):\n",
        "  left = 0\n",
        "  max_len = 0\n",
        "  count = defaultdict(int)\n",
        "\n",
        "  for right in range(len(s)):\n",
        "    count[s[right]] += 1\n",
        "    while len(count) > k:\n",
        "      count[s[left]] -= 1\n",
        "      if count[s[left]] == 0:\n",
        "        del count[s[left]]\n",
        "      left += 1\n",
        "    max_len = max(max_len, right - left + 1)\n",
        "  return max_len\n",
        "\n",
        "print(longest_k_distinct_subset(s, k))"
      ],
      "metadata": {
        "colab": {
          "base_uri": "https://localhost:8080/"
        },
        "id": "OkoEvwXGBdkY",
        "outputId": "ffc66892-d69b-41b5-d741-4c06811c27fa"
      },
      "execution_count": 18,
      "outputs": [
        {
          "output_type": "stream",
          "name": "stdout",
          "text": [
            "3\n"
          ]
        }
      ]
    },
    {
      "cell_type": "markdown",
      "source": [
        "# Max Sliding Window"
      ],
      "metadata": {
        "id": "JbEYfW56E_AB"
      }
    },
    {
      "cell_type": "code",
      "source": [
        "from collections import deque\n",
        "arr = [-1, 3, -3, 4, 5, 2, 7, 8, 1]\n",
        "k = 3\n",
        "def max_sliding_window(arr, k):\n",
        "  deq = deque()\n",
        "  result = []\n",
        "\n",
        "  for i in range(len(arr)):\n",
        "    while deq and deq[0] <= i - k:\n",
        "      deq.popleft()\n",
        "    while deq and arr[deq[-1]] < arr[i]:\n",
        "      deq.pop()\n",
        "    deq.append(i)\n",
        "    if i >= k - 1:\n",
        "      result.append(arr[deq[0]])\n",
        "  return result\n",
        "\n",
        "print(max_sliding_window(arr, k))"
      ],
      "metadata": {
        "colab": {
          "base_uri": "https://localhost:8080/"
        },
        "id": "BHHm0XJoE-Xs",
        "outputId": "7a52c366-3eb7-437f-c5f0-e3685b476665"
      },
      "execution_count": 21,
      "outputs": [
        {
          "output_type": "stream",
          "name": "stdout",
          "text": [
            "[3, 4, 5, 5, 7, 8, 8]\n"
          ]
        }
      ]
    },
    {
      "cell_type": "markdown",
      "source": [
        "# Check Permutation"
      ],
      "metadata": {
        "id": "_vk5zjhuHOsl"
      }
    },
    {
      "cell_type": "code",
      "source": [
        "from collections import Counter\n",
        "s1 = 'ab'\n",
        "s2 = 'eidebaijd'\n",
        "\n",
        "def if_permutation_exists(s1, s2):\n",
        "  counter_s1 = Counter(s1)\n",
        "  win_count = Counter()\n",
        "  left = 0\n",
        "\n",
        "  for i in range(len(s2)):\n",
        "    win_count[s2[i]] += 1\n",
        "    if i >= len(s1):\n",
        "      left_char = s2[left]\n",
        "      win_count[left_char] -= 1\n",
        "      if win_count[left_char] == 0:\n",
        "        del win_count[left_char]\n",
        "      left += 1\n",
        "\n",
        "    if win_count == counter_s1:\n",
        "      return True\n",
        "  return False\n",
        "\n",
        "print(if_permutation_exists(s1, s2))"
      ],
      "metadata": {
        "colab": {
          "base_uri": "https://localhost:8080/"
        },
        "id": "J_LvJKUtHOYz",
        "outputId": "78266d50-c1f8-45e8-f915-f0c9e90cf3e9"
      },
      "execution_count": 41,
      "outputs": [
        {
          "output_type": "stream",
          "name": "stdout",
          "text": [
            "True\n"
          ]
        }
      ]
    },
    {
      "cell_type": "markdown",
      "source": [
        "# Heapq"
      ],
      "metadata": {
        "id": "sePyBV54KY4z"
      }
    },
    {
      "cell_type": "code",
      "source": [
        "\"\"\"\n",
        "min heapque = parent\n",
        "max heapque = child\n",
        "\"\"\"\n",
        "\n",
        "import heapq\n",
        "arr = [5, 3, 8, 1, 2]\n",
        "heapq.heapify(arr)\n",
        "heapq.heappush(arr, 4)\n",
        "heapq.heappop(arr)\n",
        "heapq.heapreplace(arr, 1)"
      ],
      "metadata": {
        "colab": {
          "base_uri": "https://localhost:8080/"
        },
        "id": "kGLuinNTKjJ6",
        "outputId": "4da09043-d2ee-46c4-f703-2f5cd2b31576"
      },
      "execution_count": 59,
      "outputs": [
        {
          "output_type": "execute_result",
          "data": {
            "text/plain": [
              "2"
            ]
          },
          "metadata": {},
          "execution_count": 59
        }
      ]
    },
    {
      "cell_type": "markdown",
      "source": [
        "# DFS"
      ],
      "metadata": {
        "id": "7hqRORIiL4cl"
      }
    },
    {
      "cell_type": "code",
      "source": [
        "from collections import deque\n",
        "\n",
        "graph = {\n",
        "    'A': ['B', 'C'],\n",
        "    'B': ['D', 'E'],\n",
        "    'C': ['F'],\n",
        "    'D': [],\n",
        "    'E': [],\n",
        "    'F': []\n",
        "}\n",
        "\n",
        "def dfs_iterate(graph, start_node):\n",
        "  visited = set()\n",
        "  stack = [start_node]\n",
        "  print('DFS Traversal: ', end=' ')\n",
        "  while stack:\n",
        "    current_node = stack.pop()\n",
        "    if current_node not in visited:\n",
        "      print(current_node, end=' ')\n",
        "      visited.add(current_node)\n",
        "      for n in reversed(graph[current_node]):\n",
        "        if n not in visited:\n",
        "          stack.append(n)\n",
        "  print('\\n')\n",
        "\n",
        "def dfs_recursion(graph, node, visited=None):\n",
        "  if visited is None:\n",
        "    visited = set()\n",
        "  if node not in visited:\n",
        "    print(node, end=' ')\n",
        "    visited.add(node)\n",
        "    for n in graph[node]:\n",
        "      dfs_recursion(graph, n, visited)\n",
        "  return\n",
        "dfs_recursion(graph, 'A')"
      ],
      "metadata": {
        "colab": {
          "base_uri": "https://localhost:8080/"
        },
        "id": "MGswmcR3L7gU",
        "outputId": "70e117f8-0730-4d97-bf7e-71e275e18f26"
      },
      "execution_count": 67,
      "outputs": [
        {
          "output_type": "stream",
          "name": "stdout",
          "text": [
            "A B D E C F "
          ]
        }
      ]
    },
    {
      "cell_type": "markdown",
      "source": [
        "# BFS"
      ],
      "metadata": {
        "id": "-x1GWij9L6b_"
      }
    },
    {
      "cell_type": "code",
      "source": [
        "from collections import deque\n",
        "graph = {\n",
        "    'A': ['B', 'C'],\n",
        "    'B': ['D', 'E'],\n",
        "    'C': ['F'],\n",
        "    'D': [],\n",
        "    'E': [],\n",
        "    'F': []\n",
        "}\n",
        "\n",
        "def bfs(graph, start_node):\n",
        "  visited = set()\n",
        "  queue = deque([start_node])\n",
        "  visited.add(start_node)\n",
        "  print('BFS Traversal: ', end=' ')\n",
        "  while queue:\n",
        "    current_node = queue.popleft()\n",
        "    print(current_node, end=' ')\n",
        "    for neighbor in graph[current_node]:\n",
        "            if neighbor not in visited:\n",
        "                visited.add(neighbor)\n",
        "                queue.append(neighbor)\n",
        "  print(\"\\n\")\n",
        "\n",
        "bfs(graph, 'A')"
      ],
      "metadata": {
        "colab": {
          "base_uri": "https://localhost:8080/"
        },
        "id": "bQgyr3J1L8GW",
        "outputId": "becb40fa-2cc8-4e06-f595-5863bac1dd42"
      },
      "execution_count": 70,
      "outputs": [
        {
          "output_type": "stream",
          "name": "stdout",
          "text": [
            "BFS Traversal:  A B C D E F \n",
            "\n"
          ]
        }
      ]
    }
  ]
}